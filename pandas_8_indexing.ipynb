{
  "nbformat": 4,
  "nbformat_minor": 0,
  "metadata": {
    "colab": {
      "provenance": []
    },
    "kernelspec": {
      "name": "python3",
      "display_name": "Python 3"
    },
    "language_info": {
      "name": "python"
    }
  },
  "cells": [
    {
      "cell_type": "code",
      "execution_count": 2,
      "metadata": {
        "id": "YnVdnx13Bvwo"
      },
      "outputs": [],
      "source": [
        "#indexing in pandas means simply selecting particular rows and column of data from a dataframe\n",
        "#Indexing could mean selecting all the rows and some of the columns\n",
        "#some of the rows and all of the columns, or some of each of the rows and columns"
      ]
    },
    {
      "cell_type": "code",
      "source": [
        "# selecting a single column\n",
        "import pandas as pd\n",
        "data=pd.read_csv('nba.csv',index_col='Name')\n",
        "first=data['Age']\n",
        "print(first)"
      ],
      "metadata": {
        "colab": {
          "base_uri": "https://localhost:8080/"
        },
        "id": "1_mQISKeIbKb",
        "outputId": "bd7d4e41-0877-43e9-dc7b-dfda2c593e84"
      },
      "execution_count": 5,
      "outputs": [
        {
          "output_type": "stream",
          "name": "stdout",
          "text": [
            "Name\n",
            "Avery Bradley    25.0\n",
            "Jae Crowder      25.0\n",
            "John Holland     27.0\n",
            "R.J. Hunter      22.0\n",
            "Jonas Jerebko    29.0\n",
            "                 ... \n",
            "Shelvin Mack     26.0\n",
            "Raul Neto        24.0\n",
            "Tibor Pleiss     26.0\n",
            "Jeff Withey      26.0\n",
            "NaN               NaN\n",
            "Name: Age, Length: 458, dtype: float64\n"
          ]
        }
      ]
    },
    {
      "cell_type": "code",
      "source": [
        "# selecting a single column\n",
        "import pandas as pd\n",
        "data=pd.read_csv('nba.csv',index_col=\"Name\")\n",
        "first=data[[\"Age\",\"College\", \"Salary\"]]\n",
        "print(first)"
      ],
      "metadata": {
        "colab": {
          "base_uri": "https://localhost:8080/"
        },
        "id": "-1j5871xKS5D",
        "outputId": "2f6ce4f8-2e9c-45d2-973c-39a1280ad813"
      },
      "execution_count": 10,
      "outputs": [
        {
          "output_type": "stream",
          "name": "stdout",
          "text": [
            "                Age            College     Salary\n",
            "Name                                             \n",
            "Avery Bradley  25.0              Texas  7730337.0\n",
            "Jae Crowder    25.0          Marquette  6796117.0\n",
            "John Holland   27.0  Boston University        NaN\n",
            "R.J. Hunter    22.0      Georgia State  1148640.0\n",
            "Jonas Jerebko  29.0                NaN  5000000.0\n",
            "...             ...                ...        ...\n",
            "Shelvin Mack   26.0             Butler  2433333.0\n",
            "Raul Neto      24.0                NaN   900000.0\n",
            "Tibor Pleiss   26.0                NaN  2900000.0\n",
            "Jeff Withey    26.0             Kansas   947276.0\n",
            "NaN             NaN                NaN        NaN\n",
            "\n",
            "[458 rows x 3 columns]\n"
          ]
        }
      ]
    },
    {
      "cell_type": "code",
      "source": [
        "import pandas as pd\n",
        "data=pd.read_csv('nba.csv',index_col=\"Name\")\n",
        "first=data.loc['Avery Bradley']\n",
        "second=data.loc['R.J. Hunter']\n",
        "print(first,\"\\n\\n\\n\",second)"
      ],
      "metadata": {
        "colab": {
          "base_uri": "https://localhost:8080/"
        },
        "id": "MHZNINYVLPqQ",
        "outputId": "07fa2c26-2b1e-46fb-fe3a-416cea16d9b4"
      },
      "execution_count": 12,
      "outputs": [
        {
          "output_type": "stream",
          "name": "stdout",
          "text": [
            "Team        Boston Celtics\n",
            "Number                 0.0\n",
            "Position                PG\n",
            "Age                   25.0\n",
            "Height                 6-2\n",
            "Weight               180.0\n",
            "College              Texas\n",
            "Salary           7730337.0\n",
            "Name: Avery Bradley, dtype: object \n",
            "\n",
            "\n",
            " Team        Boston Celtics\n",
            "Number                28.0\n",
            "Position                SG\n",
            "Age                   22.0\n",
            "Height                 6-5\n",
            "Weight               185.0\n",
            "College      Georgia State\n",
            "Salary           1148640.0\n",
            "Name: R.J. Hunter, dtype: object\n"
          ]
        }
      ]
    },
    {
      "cell_type": "code",
      "source": [
        "import pandas as pd"
      ],
      "metadata": {
        "id": "DcpA6BU3MdOe"
      },
      "execution_count": null,
      "outputs": []
    },
    {
      "cell_type": "code",
      "source": [
        "data = pd.read_csv(\"nba.csv\",index_col=\"Name\")\n",
        "firs=data.loc[['Avery Bradley','R.J. Hunter']]"
      ],
      "metadata": {
        "id": "l9ydN9OgMdXh"
      },
      "execution_count": 13,
      "outputs": []
    },
    {
      "cell_type": "code",
      "source": [
        "print(first)"
      ],
      "metadata": {
        "colab": {
          "base_uri": "https://localhost:8080/"
        },
        "id": "gJ2jev3kMdaM",
        "outputId": "b034b311-8145-40a6-ed7b-eef751b5069a"
      },
      "execution_count": 14,
      "outputs": [
        {
          "output_type": "stream",
          "name": "stdout",
          "text": [
            "Team        Boston Celtics\n",
            "Number                 0.0\n",
            "Position                PG\n",
            "Age                   25.0\n",
            "Height                 6-2\n",
            "Weight               180.0\n",
            "College              Texas\n",
            "Salary           7730337.0\n",
            "Name: Avery Bradley, dtype: object\n"
          ]
        }
      ]
    },
    {
      "cell_type": "code",
      "source": [],
      "metadata": {
        "id": "LxqL7i82Mddp"
      },
      "execution_count": null,
      "outputs": []
    }
  ]
}