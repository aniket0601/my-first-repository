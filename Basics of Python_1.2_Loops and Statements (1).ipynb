{
 "cells": [
  {
   "cell_type": "markdown",
   "metadata": {},
   "source": [
    "# Loops and Statements\n",
    "- if-else\n",
    "- while\n",
    "- for"
   ]
  },
  {
   "cell_type": "markdown",
   "metadata": {},
   "source": [
    "## if statement\n",
    "The **if…elif…else** statement is used in Python for decision making.\n",
    "\n",
    "**if..statement..syntax** \n",
    "\n",
    "if condition:\n",
    "\n",
    "    statement(s)"
   ]
  },
  {
   "cell_type": "markdown",
   "metadata": {},
   "source": [
    "The program evaluates the test expression and will execute statement(s) only if the text expression is True.\n",
    "\n",
    "If the text expression is False, the statement(s) is not executed.\n",
    "\n",
    "Python interprets non-zero values as True. None and 0 are interpreted as False."
   ]
  },
  {
   "cell_type": "code",
   "execution_count": 1,
   "metadata": {},
   "outputs": [
    {
     "name": "stdout",
     "output_type": "stream",
     "text": [
      "a is less than b\n"
     ]
    }
   ],
   "source": [
    "a = 333\n",
    "b = 2000\n",
    "if b < a:\n",
    "    print(\"b is less than a\") # This statement is part of if statement.\n",
    "print('a is less than b') # This will always print; not part of if statement"
   ]
  },
  {
   "cell_type": "code",
   "execution_count": 2,
   "metadata": {},
   "outputs": [
    {
     "name": "stdout",
     "output_type": "stream",
     "text": [
      "333\n",
      "2000\n",
      "True\n"
     ]
    }
   ],
   "source": [
    "print(a)\n",
    "print(b)\n",
    "print(b>a)"
   ]
  },
  {
   "cell_type": "code",
   "execution_count": 3,
   "metadata": {},
   "outputs": [
    {
     "data": {
      "text/plain": [
       "True"
      ]
     },
     "execution_count": 3,
     "metadata": {},
     "output_type": "execute_result"
    }
   ],
   "source": [
    "bool(-1)"
   ]
  },
  {
   "cell_type": "code",
   "execution_count": 4,
   "metadata": {},
   "outputs": [
    {
     "name": "stdout",
     "output_type": "stream",
     "text": [
      "This will print always\n"
     ]
    }
   ],
   "source": [
    "num = 0\n",
    "# try 0, -1 and None\n",
    "if num:\n",
    "    print(\"Number is positive\")\n",
    "\n",
    "print(\"This will print always\")  #This print statement always print\n",
    "\n",
    "#change number "
   ]
  },
  {
   "cell_type": "markdown",
   "metadata": {},
   "source": [
    "## if ... else Statement\n",
    "### Syntax:\n",
    "    if condition:\n",
    "    \n",
    "        Body of if\n",
    "\n",
    "    else: \n",
    "    \n",
    "        Body of else"
   ]
  },
  {
   "cell_type": "code",
   "execution_count": 5,
   "metadata": {},
   "outputs": [
    {
     "name": "stdout",
     "output_type": "stream",
     "text": [
      "Positive number\n"
     ]
    }
   ],
   "source": [
    "num = 0\n",
    "if num >= 0:\n",
    "    print(\"Positive number\")\n",
    "else:\n",
    "    print(\"Negative Number\")"
   ]
  },
  {
   "cell_type": "markdown",
   "metadata": {},
   "source": [
    "## if...elif...else Statement\n",
    "### Syntax:\n",
    "    if condition-1:\n",
    "\n",
    "        Body of if\n",
    "\n",
    "    elif condition-2:\n",
    "    \n",
    "        Body of elif\n",
    "    \n",
    "    else: \n",
    "    \n",
    "        Body of else"
   ]
  },
  {
   "cell_type": "code",
   "execution_count": 6,
   "metadata": {},
   "outputs": [],
   "source": [
    "#'2' == 0"
   ]
  },
  {
   "cell_type": "code",
   "execution_count": 7,
   "metadata": {},
   "outputs": [
    {
     "name": "stdout",
     "output_type": "stream",
     "text": [
      "Zero\n"
     ]
    }
   ],
   "source": [
    "num = 0\n",
    "\n",
    "if num == 0:\n",
    "    print(\"Zero\")\n",
    "elif num > 0:\n",
    "    print(\"Positive Number\")\n",
    "else:\n",
    "    print(\"Negative Number\")"
   ]
  },
  {
   "cell_type": "code",
   "execution_count": 8,
   "metadata": {},
   "outputs": [
    {
     "name": "stdout",
     "output_type": "stream",
     "text": [
      "Positive number\n"
     ]
    }
   ],
   "source": [
    "num = 2\n",
    "\n",
    "if num > 0:\n",
    "    print(\"Positive number\")\n",
    "elif num == 0:\n",
    "    print(\"ZERO\")\n",
    "else:\n",
    "    print(\"Negative Number\")"
   ]
  },
  {
   "cell_type": "markdown",
   "metadata": {},
   "source": [
    "## Nested if Statements\n",
    "We can have a if...elif...else statement inside another if...elif...else statement. This is called nesting in computer programming."
   ]
  },
  {
   "cell_type": "code",
   "execution_count": 9,
   "metadata": {},
   "outputs": [
    {
     "name": "stdout",
     "output_type": "stream",
     "text": [
      "Zero\n"
     ]
    }
   ],
   "source": [
    "num = 0\n",
    "\n",
    "if num >= 0:\n",
    "    if num == 0:\n",
    "        print(\"Zero\")\n",
    "    else:\n",
    "        print(\"Positive number\")\n",
    "else:\n",
    "    print(\"Negative Number\")"
   ]
  },
  {
   "cell_type": "markdown",
   "metadata": {},
   "source": [
    "### Python program to find the largest element among three Numbers"
   ]
  },
  {
   "cell_type": "code",
   "execution_count": 10,
   "metadata": {},
   "outputs": [
    {
     "name": "stdout",
     "output_type": "stream",
     "text": [
      "Largest element among three numbers is: 100\n"
     ]
    }
   ],
   "source": [
    "num1 = 10\n",
    "num2 = 100\n",
    "num3 = 10\n",
    "\n",
    "if (num1 >= num2) and (num1 >= num3):           #logical operator and\n",
    "    largest = num1\n",
    "elif (num2 >= num1) and (num2 >= num3):\n",
    "    largest = num2\n",
    "else:\n",
    "    largest = num3\n",
    "print(\"Largest element among three numbers is: {}\".format(largest))"
   ]
  },
  {
   "cell_type": "markdown",
   "metadata": {},
   "source": [
    "## while Loop\n",
    "The while loop in Python is used to iterate over a block of code as long as the test expression (condition) is true.\n",
    "### Syntax:\n",
    "    while test_expression:\n",
    "        \n",
    "        Body of while\n",
    "\n",
    "The body of the loop is entered only if the test_expression evaluates to True. \n",
    "\n",
    "After one iteration, the test expression is checked again. \n",
    "\n",
    "This process continues until the test_expression evaluates to False."
   ]
  },
  {
   "cell_type": "code",
   "execution_count": 11,
   "metadata": {},
   "outputs": [
    {
     "name": "stdout",
     "output_type": "stream",
     "text": [
      "Product is: 240\n"
     ]
    }
   ],
   "source": [
    "#Find product of all numbers present in a list\n",
    "lst = [1, 20, 12]\n",
    "\n",
    "product = 1\n",
    "index = 0\n",
    "\n",
    "while index < len(lst):\n",
    "    product *= lst[index] # product = product*lst[index]\n",
    "    index += 1\n",
    "\n",
    "print(\"Product is: {}\".format(product))"
   ]
  },
  {
   "cell_type": "code",
   "execution_count": 12,
   "metadata": {},
   "outputs": [
    {
     "name": "stdout",
     "output_type": "stream",
     "text": [
      "65\n"
     ]
    }
   ],
   "source": [
    "import random\n",
    "print(random.randrange(1,100))"
   ]
  },
  {
   "cell_type": "code",
   "execution_count": 13,
   "metadata": {},
   "outputs": [],
   "source": [
    "# Let's consider you're allowed to talk 60 mins"
   ]
  },
  {
   "cell_type": "code",
   "execution_count": 14,
   "metadata": {},
   "outputs": [
    {
     "name": "stdout",
     "output_type": "stream",
     "text": [
      "You are allowed to call\n",
      "8\n",
      "1\n",
      "You are allowed to call\n",
      "17\n",
      "2\n",
      "You are allowed to call\n",
      "18\n",
      "3\n",
      "You are allowed to call\n",
      "22\n",
      "4\n",
      "You are allowed to call\n",
      "24\n",
      "5\n",
      "You are allowed to call\n",
      "27\n",
      "6\n",
      "You are allowed to call\n",
      "34\n",
      "7\n",
      "You are allowed to call\n",
      "36\n",
      "8\n",
      "You are allowed to call\n",
      "44\n",
      "9\n",
      "You are allowed to call\n",
      "52\n",
      "10\n",
      "You are allowed to call\n",
      "58\n",
      "11\n",
      "You are allowed to call\n",
      "67\n",
      "12\n",
      "You are done for today\n"
     ]
    }
   ],
   "source": [
    "max_min = 60\n",
    "till_now = 0\n",
    "i = 0\n",
    "while till_now <= 60:\n",
    "    print('You are allowed to call')\n",
    "    till_now = till_now + random.randrange(1,10)\n",
    "    print(till_now)\n",
    "    i = i + 1\n",
    "    print(i)\n",
    "print('You are done for today')"
   ]
  },
  {
   "cell_type": "markdown",
   "metadata": {},
   "source": [
    "# while Loop with else\n",
    "Same as that of for loop, we can have an optional else block with while loop as well.\n",
    "\n",
    "The else part is executed if the condition in the while loop evaluates to False. The while loop can be terminated with a break statement.\n",
    "\n",
    "In such case, the else part is ignored. Hence, a while loop's else part runs if no break occurs and the condition is false."
   ]
  },
  {
   "cell_type": "code",
   "execution_count": 15,
   "metadata": {},
   "outputs": [
    {
     "name": "stdout",
     "output_type": "stream",
     "text": [
      "5\n",
      "2\n",
      "4\n",
      "1\n",
      "4\n",
      "5\n",
      "no item left in the list\n"
     ]
    }
   ],
   "source": [
    "numbers = [5,2,4,1,4,5]\n",
    "#iterating over the list\n",
    "index = 0\n",
    "while index < len(numbers):\n",
    "    print(numbers[index])\n",
    "    index += 1\n",
    "else:\n",
    "    print(\"no item left in the list\")"
   ]
  },
  {
   "cell_type": "code",
   "execution_count": 16,
   "metadata": {},
   "outputs": [
    {
     "name": "stdout",
     "output_type": "stream",
     "text": [
      "Enter some value: 12\n",
      "12\n"
     ]
    }
   ],
   "source": [
    "x=input(\"Enter some value: \")\n",
    "print(x)"
   ]
  },
  {
   "cell_type": "code",
   "execution_count": 17,
   "metadata": {},
   "outputs": [
    {
     "data": {
      "text/plain": [
       "str"
      ]
     },
     "execution_count": 17,
     "metadata": {},
     "output_type": "execute_result"
    }
   ],
   "source": [
    "type(x)"
   ]
  },
  {
   "cell_type": "code",
   "execution_count": 18,
   "metadata": {},
   "outputs": [
    {
     "name": "stdout",
     "output_type": "stream",
     "text": [
      "Enter a number: 12\n",
      "12 is divisible by 2\n",
      "12 is divisible by 3\n",
      "12 is divisible by 4\n",
      "12 is NOT a Prime number\n"
     ]
    }
   ],
   "source": [
    "# Python Program to check given number is Prime number or not\n",
    "num = int(input(\"Enter a number: \"))        #convert string to int\n",
    "\n",
    "isDivisible = False;\n",
    "\n",
    "i=2;\n",
    "while i < int(num/2):\n",
    "    if num % i == 0:\n",
    "        isDivisible = True;\n",
    "        print (\"{} is divisible by {}\".format(num,i) )\n",
    "    i += 1;\n",
    "    \n",
    "if isDivisible:\n",
    "    print(\"{} is NOT a Prime number\".format(num))\n",
    "else:\n",
    "    print(\"{} is a Prime number\".format(num))"
   ]
  },
  {
   "cell_type": "markdown",
   "metadata": {},
   "source": [
    "## for Loop\n",
    "The for loop in Python is used to iterate over a sequence (list, tuple, string) or other iterable objects. \n",
    "    \n",
    "Iterating over a sequence is called traversal.\n",
    "\n",
    "### Syntax:\n",
    "    for element in sequence :\n",
    "\n",
    "        Body of for\n",
    "Here, element is the variable that takes the value of the item inside the sequence on each iteration.\n",
    "\n",
    "Loop continues until we reach the last item in the sequence. \n",
    "\n"
   ]
  },
  {
   "cell_type": "code",
   "execution_count": 19,
   "metadata": {},
   "outputs": [
    {
     "name": "stdout",
     "output_type": "stream",
     "text": [
      "Product is: 46080\n"
     ]
    }
   ],
   "source": [
    "#Find product of all numbers present in a list\n",
    "lst = [3,2, 12, 32, 4, 5]\n",
    "product = 1\n",
    "#iterating over the list\n",
    "for i in lst:\n",
    "    product *= i # product = product*i\n",
    "\n",
    "print(\"Product is: {}\".format(product))"
   ]
  },
  {
   "cell_type": "markdown",
   "metadata": {},
   "source": [
    "### range() function\n",
    "We can generate a sequence of numbers using range() function. range(10) will generate numbers from 0 to 9 (10 numbers).\n",
    "\n",
    "We can also define the start, stop and step size as range(start,stop,step size). step size defaults to 1 if not provided.\n",
    "\n",
    "This function does not store all the values in memory, it would be inefficient. So it remembers the start, stop, step size and generates the next number on the go."
   ]
  },
  {
   "cell_type": "code",
   "execution_count": 20,
   "metadata": {},
   "outputs": [
    {
     "data": {
      "text/plain": [
       "range(0, 10)"
      ]
     },
     "execution_count": 20,
     "metadata": {},
     "output_type": "execute_result"
    }
   ],
   "source": [
    "range(10)"
   ]
  },
  {
   "cell_type": "code",
   "execution_count": 21,
   "metadata": {},
   "outputs": [
    {
     "data": {
      "text/plain": [
       "[0, 1, 2, 3, 4, 5, 6, 7, 8, 9]"
      ]
     },
     "execution_count": 21,
     "metadata": {},
     "output_type": "execute_result"
    }
   ],
   "source": [
    "list(range(10))"
   ]
  },
  {
   "cell_type": "code",
   "execution_count": 22,
   "metadata": {},
   "outputs": [
    {
     "data": {
      "text/plain": [
       "[10, 12, 14, 16, 18]"
      ]
     },
     "execution_count": 22,
     "metadata": {},
     "output_type": "execute_result"
    }
   ],
   "source": [
    "list(range(10,20,2))"
   ]
  },
  {
   "cell_type": "code",
   "execution_count": 23,
   "metadata": {},
   "outputs": [
    {
     "data": {
      "text/plain": [
       "[10, 8, 6, 4, 2, 0, -2, -4, -6, -8, -10, -12, -14, -16, -18]"
      ]
     },
     "execution_count": 23,
     "metadata": {},
     "output_type": "execute_result"
    }
   ],
   "source": [
    "list(range(10,-20,-2))"
   ]
  },
  {
   "cell_type": "code",
   "execution_count": 24,
   "metadata": {},
   "outputs": [
    {
     "name": "stdout",
     "output_type": "stream",
     "text": [
      "10\n",
      "5\n",
      "0\n",
      "-5\n",
      "-10\n",
      "-15\n"
     ]
    }
   ],
   "source": [
    "#print range of 10\n",
    "for i in range(10,-20,-5):\n",
    "    print(i)"
   ]
  },
  {
   "cell_type": "code",
   "execution_count": 25,
   "metadata": {},
   "outputs": [
    {
     "name": "stdout",
     "output_type": "stream",
     "text": [
      "3\n",
      "6\n",
      "9\n",
      "12\n",
      "15\n",
      "18\n"
     ]
    }
   ],
   "source": [
    "#print range of numbers from 1 to 20 with step size of 2\n",
    "for i in range(1, 20, 1):\n",
    "    if i%3 == 0:\n",
    "        print(i)\n",
    "    #print(i)"
   ]
  },
  {
   "cell_type": "code",
   "execution_count": 26,
   "metadata": {},
   "outputs": [
    {
     "name": "stdout",
     "output_type": "stream",
     "text": [
      "6\n",
      "6\n",
      "5\n",
      "6\n",
      "5\n"
     ]
    }
   ],
   "source": [
    "lst = [\"sachin\", \"saurav\", \"dhoni\", \"sehvag\", \"virat\"]\n",
    "#iterate over the list using index\n",
    "#for index in range(len(lst)):\n",
    "#    print(lst[index])\n",
    "for x in lst:\n",
    "    print(len(x))"
   ]
  },
  {
   "cell_type": "markdown",
   "metadata": {},
   "source": [
    "### for loop with else\n",
    "A for loop can have an optional else block as well. The else part is executed if the items in the sequence used in for loop exhausts.\n",
    "\n",
    "break statement can be used to stop a for loop. In such case, the else part is ignored.\n",
    "\n",
    "Hence, a for loop's else part runs if no break occurs."
   ]
  },
  {
   "cell_type": "code",
   "execution_count": 27,
   "metadata": {},
   "outputs": [
    {
     "name": "stdout",
     "output_type": "stream",
     "text": [
      "1\n",
      "2\n",
      "3\n",
      "no item left in the list\n"
     ]
    }
   ],
   "source": [
    "numbers = [1, 2, 3]\n",
    "#numbers=list(range(1,100,2))\n",
    "#iterating over the list\n",
    "for j in numbers:\n",
    "    print(j)\n",
    "else:\n",
    "    print(\"no item left in the list\")"
   ]
  },
  {
   "cell_type": "code",
   "execution_count": 28,
   "metadata": {},
   "outputs": [
    {
     "name": "stdout",
     "output_type": "stream",
     "text": [
      "1\n",
      "2\n",
      "3\n",
      "4\n",
      "5\n"
     ]
    }
   ],
   "source": [
    "numbers = list(range(1,20))\n",
    "for item in numbers:\n",
    "    print(item)\n",
    "    if item % 5 == 0:\n",
    "        break\n",
    "else:\n",
    "    print(\"no item left in the list\")"
   ]
  },
  {
   "cell_type": "code",
   "execution_count": 29,
   "metadata": {},
   "outputs": [
    {
     "name": "stdout",
     "output_type": "stream",
     "text": [
      "Enter length of comment: 12\n",
      "The comment 0 is positive\n",
      "Enter length of comment: 12\n",
      "The comment 1 is positive\n",
      "Enter length of comment: 12\n",
      "The comment 2 is positive\n",
      "Enter length of comment: 12\n",
      "The comment 3 is positive\n",
      "Enter length of comment: 12\n",
      "The comment 4 is positive\n"
     ]
    }
   ],
   "source": [
    "for i in range(5):\n",
    "    l = int(input('Enter length of comment: '))\n",
    "    if l > 150:\n",
    "        print('The comment {} is negative'.format(i))\n",
    "    else:\n",
    "        print('The comment {} is positive'.format(i))"
   ]
  },
  {
   "cell_type": "code",
   "execution_count": null,
   "metadata": {},
   "outputs": [],
   "source": []
  },
  {
   "cell_type": "code",
   "execution_count": null,
   "metadata": {},
   "outputs": [],
   "source": []
  },
  {
   "cell_type": "markdown",
   "metadata": {},
   "source": [
    "# Task\n",
    "- Write a code which takes two inputs a and b (a < b) from user and returns all the prime numbers between a and b.\n",
    "- Below is a part of a DNA sequence. Copy that to python in a variable named as ‘DNA’. Write a code which returns frequency of all distinct characters in the sequence given.\n",
    "\n",
    "'CCAGCAGCTCCTTGCCGAGATGGGATTCGGTTATCTTGCCTTTGAAAAAATCCAGGTAACCTTCCGCATCATCGCTCGCCCGACCGACGGCCTCCACGAATGCCGATTTGCCAACGGTGTTCACACTGCGGATATAAAAGTAATAATCATGGCCCGGTTTGATATTGATACTGGCGGCTATCCAGTACAGCGCCGTACCAAGATAA'"
   ]
  },
  {
   "cell_type": "code",
   "execution_count": 30,
   "metadata": {},
   "outputs": [],
   "source": [
    "#name = 'sachin'\n",
    "#list(name)"
   ]
  },
  {
   "cell_type": "code",
   "execution_count": 31,
   "metadata": {},
   "outputs": [
    {
     "name": "stdout",
     "output_type": "stream",
     "text": [
      "52\n"
     ]
    }
   ],
   "source": [
    "A = 'A'\n",
    "seq = 'CCAGCAGCTCCTTGCCGAGATGGGATTCGGTTATCTTGCCTTTGAAAAAATCCAGGTAACCTTCCGCATCATCGCTCGCCCGACCGACGGCCTCCACGAATGCCGATTTGCCAACGGTGTTCACACTGCGGATATAAAAGTAATAATCATGGCCCGGTTTGATATTGATACTGGCGGCTATCCAGTACAGCGCCGTACCAAGATAA'\n",
    "y = list(seq)\n",
    "count_A = 0\n",
    "for j in y:\n",
    "    if j == A:\n",
    "        count_A +=1\n",
    "print(count_A)"
   ]
  },
  {
   "cell_type": "code",
   "execution_count": 32,
   "metadata": {},
   "outputs": [
    {
     "name": "stdout",
     "output_type": "stream",
     "text": [
      "Character A is repeated 52 times\n",
      "Character C is repeated 58 times\n",
      "Character G is repeated 47 times\n",
      "Character T is repeated 49 times\n"
     ]
    }
   ],
   "source": [
    "unique = ['A', 'C', 'G', 'T']\n",
    "for i in unique:\n",
    "    count = 0\n",
    "    for j in y:\n",
    "        if j == i:\n",
    "            count +=1\n",
    "    print('Character {} is repeated {} times'.format(i, count))"
   ]
  },
  {
   "cell_type": "code",
   "execution_count": 33,
   "metadata": {},
   "outputs": [
    {
     "data": {
      "text/plain": [
       "['T', 'G', 'C', 'A']"
      ]
     },
     "execution_count": 33,
     "metadata": {},
     "output_type": "execute_result"
    }
   ],
   "source": [
    "unique = ['A', 'C', 'G', 'T']\n",
    "unique.reverse()\n",
    "unique"
   ]
  },
  {
   "cell_type": "code",
   "execution_count": null,
   "metadata": {},
   "outputs": [],
   "source": []
  },
  {
   "cell_type": "code",
   "execution_count": 35,
   "metadata": {},
   "outputs": [
    {
     "name": "stdout",
     "output_type": "stream",
     "text": [
      "Enter SMS:hellow\n",
      "SMS is ham\n"
     ]
    }
   ],
   "source": [
    "sms = input(\"Enter SMS:\")\n",
    "l = len(sms)\n",
    "\n",
    "if l < 110:\n",
    "    print('SMS is ham')\n",
    "elif l>150:\n",
    "    print('SMS is spam')\n",
    "else:\n",
    "    print('Need more information')"
   ]
  },
  {
   "cell_type": "code",
   "execution_count": 36,
   "metadata": {},
   "outputs": [
    {
     "name": "stdout",
     "output_type": "stream",
     "text": [
      "Prime numbers between 20 and 50 are :\n",
      "23\n",
      "29\n",
      "31\n",
      "37\n",
      "41\n",
      "43\n",
      "47\n"
     ]
    }
   ],
   "source": [
    "# Python Program to display all prime numbers within an interval\n",
    "index1 = 20\n",
    "index2 = 50\n",
    "\n",
    "print(\"Prime numbers between {0} and {1} are :\".format(index1, index2))\n",
    "\n",
    "for num in range(index1, index2+1):      #default step size is 1\n",
    "    if num > 1:\n",
    "        isDivisible = False;\n",
    "        for index in range(2, num):\n",
    "            if num % index == 0:\n",
    "                isDivisible = True;\n",
    "        if not isDivisible:        \n",
    "            print(num);    "
   ]
  },
  {
   "cell_type": "code",
   "execution_count": 37,
   "metadata": {},
   "outputs": [
    {
     "name": "stdout",
     "output_type": "stream",
     "text": [
      "Enter first no.:1\n",
      "Enter second no.:1\n",
      "Prime numbers between 1 and 1 are :\n"
     ]
    }
   ],
   "source": [
    "x=int(input(\"Enter first no.:\" ))\n",
    "y=int(input(\"Enter second no.:\" ))\n",
    "\n",
    "print(\"Prime numbers between {0} and {1} are :\".format(x, y))\n",
    "\n",
    "for num in range(x, y+1):      #default step size is 1\n",
    "    if num > 1:\n",
    "        isDivisible = False;\n",
    "        for index in range(2, num):\n",
    "            if num % index == 0:\n",
    "                isDivisible = True;\n",
    "        if not isDivisible:        \n",
    "            print(num);"
   ]
  },
  {
   "cell_type": "code",
   "execution_count": 38,
   "metadata": {},
   "outputs": [],
   "source": [
    "b = dict.fromkeys(seq, 0)\n",
    "for i in seq:\n",
    "    b[i] += 1"
   ]
  },
  {
   "cell_type": "code",
   "execution_count": 39,
   "metadata": {},
   "outputs": [
    {
     "data": {
      "text/plain": [
       "{'C': 58, 'A': 52, 'G': 47, 'T': 49}"
      ]
     },
     "execution_count": 39,
     "metadata": {},
     "output_type": "execute_result"
    }
   ],
   "source": [
    "b"
   ]
  },
  {
   "cell_type": "markdown",
   "metadata": {},
   "source": [
    "## "
   ]
  },
  {
   "cell_type": "code",
   "execution_count": null,
   "metadata": {},
   "outputs": [],
   "source": []
  }
 ],
 "metadata": {
  "kernelspec": {
   "display_name": "Python 3 (ipykernel)",
   "language": "python",
   "name": "python3"
  },
  "language_info": {
   "codemirror_mode": {
    "name": "ipython",
    "version": 3
   },
   "file_extension": ".py",
   "mimetype": "text/x-python",
   "name": "python",
   "nbconvert_exporter": "python",
   "pygments_lexer": "ipython3",
   "version": "3.9.7"
  }
 },
 "nbformat": 4,
 "nbformat_minor": 2
}
