{
 "cells": [
  {
   "cell_type": "markdown",
   "id": "54b630f4",
   "metadata": {},
   "source": [
    "1)Write a Python Program to Find the Factorial of a Number?\n",
    "\n",
    "2)Write a Python Program to Display the multiplication Table?\n",
    "\n",
    "3)Write a Python Program to Print the Fibonacci sequence?\n",
    "\n",
    "4)Write a Python Program to Check Armstrong Number?\n",
    "\n",
    "5)Write a Python Program to Find Armstrong Number in an Interval?\n",
    "\n",
    "6)Write a Python Program to Find the Sum of Natural Numbers?\n"
   ]
  },
  {
   "cell_type": "code",
   "execution_count": 1,
   "id": "c0d6b2d1",
   "metadata": {},
   "outputs": [
    {
     "name": "stdout",
     "output_type": "stream",
     "text": [
      "Enter number: 10\n",
      "Factorial of 10 is 3628800\n"
     ]
    }
   ],
   "source": [
    "A = int(input(\"Enter number: \"))\n",
    "factorial = 1\n",
    "if A<0:\n",
    "    print(\"Factorial does not exist\")\n",
    "elif A==0:\n",
    "    print(\"Factorial is 1\")\n",
    "else:\n",
    "    for i in range(1,A+1):\n",
    "        factorial = factorial*i\n",
    "    print(\"Factorial of {} is {}\".format(A, factorial))"
   ]
  },
  {
   "cell_type": "code",
   "execution_count": 2,
   "id": "15fabc33",
   "metadata": {},
   "outputs": [
    {
     "name": "stdout",
     "output_type": "stream",
     "text": [
      "Enter number: 50\n",
      "50 X 1 = 50\n",
      "50 X 2 = 100\n",
      "50 X 3 = 150\n",
      "50 X 4 = 200\n",
      "50 X 5 = 250\n",
      "50 X 6 = 300\n",
      "50 X 7 = 350\n",
      "50 X 8 = 400\n",
      "50 X 9 = 450\n",
      "50 X 10 = 500\n"
     ]
    }
   ],
   "source": [
    "mul = int(input(\"Enter number: \"))\n",
    "\n",
    "for i in range(1,11):\n",
    "    product = mul*i\n",
    "    print(\"{} X {} = {}\".format(mul,i,product))"
   ]
  },
  {
   "cell_type": "code",
   "execution_count": 3,
   "id": "47dc8929",
   "metadata": {},
   "outputs": [
    {
     "name": "stdout",
     "output_type": "stream",
     "text": [
      "Enter desired length: 10\n",
      "Fibonacci Series:  0 1 1 2 3 5 8 13 21 34 "
     ]
    }
   ],
   "source": [
    "n = int(input(\"Enter desired length: \"))\n",
    "a = 0\n",
    "b = 1\n",
    "sum = 0\n",
    "count = 1\n",
    "print(\"Fibonacci Series: \", end = \" \")\n",
    "while(count <= n):\n",
    "    print(sum, end = \" \")\n",
    "    count += 1\n",
    "    a = b\n",
    "    b = sum\n",
    "    sum = a + b\n",
    "      "
   ]
  },
  {
   "cell_type": "code",
   "execution_count": 4,
   "id": "8d1f09f3",
   "metadata": {},
   "outputs": [
    {
     "name": "stdout",
     "output_type": "stream",
     "text": [
      "Enter number to check: 1\n",
      "its armstrong number\n"
     ]
    }
   ],
   "source": [
    "num = int(input(\"Enter number to check: \"))\n",
    "rem = 0\n",
    "s = 0\n",
    "temp = num\n",
    "while temp>0:\n",
    "    rem = temp%10\n",
    "    s = s + rem**3\n",
    "    temp = temp//10\n",
    "if num==s:\n",
    "    print(\"its armstrong number\")\n",
    "else:\n",
    "    print(\"not armstrong number\")"
   ]
  },
  {
   "cell_type": "code",
   "execution_count": 5,
   "id": "29488434",
   "metadata": {},
   "outputs": [
    {
     "name": "stdout",
     "output_type": "stream",
     "text": [
      "Enter lower limit of interval: 1\n",
      "Enter upper limit of interval: 100\n",
      "Armstrong numbers in given interval are:  1 64 "
     ]
    }
   ],
   "source": [
    "L = int(input(\"Enter lower limit of interval: \"))\n",
    "U = int(input(\"Enter upper limit of interval: \"))\n",
    "print(\"Armstrong numbers in given interval are: \", end = \" \")\n",
    "for num in range(L,U+1):\n",
    "    s = 0\n",
    "    temp = num\n",
    "    while temp>0:\n",
    "        rem = temp%10\n",
    "        s = s + rem**3\n",
    "        \n",
    "        \n",
    "        temp = temp//10\n",
    "        if num==s:\n",
    "            print(num, end=\" \")"
   ]
  },
  {
   "cell_type": "code",
   "execution_count": 6,
   "id": "3f294260",
   "metadata": {},
   "outputs": [
    {
     "name": "stdout",
     "output_type": "stream",
     "text": [
      "Enter number upto which sum is required: 16\n",
      "Sum of natural numbers is:  136\n"
     ]
    }
   ],
   "source": [
    "num = int(input(\"Enter number upto which sum is required: \"))\n",
    "sum = 0\n",
    "while num>0:\n",
    "    sum = sum+num\n",
    "    num -= 1\n",
    "print(\"Sum of natural numbers is: \", sum)"
   ]
  }
 ],
 "metadata": {
  "kernelspec": {
   "display_name": "Python 3",
   "language": "python",
   "name": "python3"
  },
  "language_info": {
   "codemirror_mode": {
    "name": "ipython",
    "version": 3
   },
   "file_extension": ".py",
   "mimetype": "text/x-python",
   "name": "python",
   "nbconvert_exporter": "python",
   "pygments_lexer": "ipython3",
   "version": "3.8.8"
  }
 },
 "nbformat": 4,
 "nbformat_minor": 5
}
