{
 "cells": [
  {
   "cell_type": "markdown",
   "id": "50485df3",
   "metadata": {},
   "source": [
    "1)You are given two integer variables,  x and y. You have to swap the values stored in x and y.\n",
    "2)Given an integer, print whether it is Even or Odd.\n",
    "3)Write a Python program to convert Kilometers to Miles ?\n",
    "4)Write a Python program to convert Celsius to Farenheit ?\n",
    "5)Write a Python program to display calender ?"
   ]
  },
  {
   "cell_type": "code",
   "execution_count": 1,
   "id": "bef85869",
   "metadata": {},
   "outputs": [
    {
     "name": "stdout",
     "output_type": "stream",
     "text": [
      "x before swapping: 12\n",
      "y before swapping: 15\n",
      "x after swapping: 15\n",
      "y after swapping: 12\n"
     ]
    }
   ],
   "source": [
    "x=12\n",
    "y=15\n",
    "print('x before swapping:',format(x))\n",
    "print('y before swapping:',format(y))\n",
    "z=x\n",
    "x=y\n",
    "y=z\n",
    "print('x after swapping:',format(x))\n",
    "print('y after swapping:',format(y))"
   ]
  },
  {
   "cell_type": "code",
   "execution_count": 2,
   "id": "b706ab94",
   "metadata": {},
   "outputs": [
    {
     "name": "stdout",
     "output_type": "stream",
     "text": [
      "6\n",
      "Even\n"
     ]
    }
   ],
   "source": [
    "num = int(input())\n",
    "if (num % 2) == 0:\n",
    "   print('Even')\n",
    "else:\n",
    "   print('Odd')"
   ]
  },
  {
   "cell_type": "code",
   "execution_count": 3,
   "id": "234a0b37",
   "metadata": {},
   "outputs": [
    {
     "name": "stdout",
     "output_type": "stream",
     "text": [
      "Enter no of kilometers : 12\n",
      "12.0 km is Equal to 7.452 miles\n"
     ]
    }
   ],
   "source": [
    "def kmToMiles():\n",
    "    kiloMeters = float(input(\"Enter no of kilometers : \"))\n",
    "    print(\"{} km is Equal to {} miles\".format(kiloMeters,kiloMeters*0.621))\n",
    "\n",
    "kmToMiles()"
   ]
  },
  {
   "cell_type": "code",
   "execution_count": 4,
   "id": "1b16088c",
   "metadata": {},
   "outputs": [
    {
     "name": "stdout",
     "output_type": "stream",
     "text": [
      "Enter temperature in celsius : 18\n",
      "18° Celsius is Equal to 64.4° Farenheit\n"
     ]
    }
   ],
   "source": [
    "def celToFarh():\n",
    "    celsius = int(input(\"Enter temperature in celsius : \"))\n",
    "    Farenheit = (celsius*(9/5))+32\n",
    "    print(\"{}° Celsius is Equal to {}° Farenheit\".format(celsius,Farenheit))\n",
    "    \n",
    "celToFarh()"
   ]
  },
  {
   "cell_type": "code",
   "execution_count": 5,
   "id": "714fdef4",
   "metadata": {},
   "outputs": [
    {
     "name": "stdout",
     "output_type": "stream",
     "text": [
      "Enter calender year: 2022\n",
      "                                  2022\n",
      "\n",
      "      January                   February                   March\n",
      "Mo Tu We Th Fr Sa Su      Mo Tu We Th Fr Sa Su      Mo Tu We Th Fr Sa Su\n",
      "                1  2          1  2  3  4  5  6          1  2  3  4  5  6\n",
      " 3  4  5  6  7  8  9       7  8  9 10 11 12 13       7  8  9 10 11 12 13\n",
      "10 11 12 13 14 15 16      14 15 16 17 18 19 20      14 15 16 17 18 19 20\n",
      "17 18 19 20 21 22 23      21 22 23 24 25 26 27      21 22 23 24 25 26 27\n",
      "24 25 26 27 28 29 30      28                        28 29 30 31\n",
      "31\n",
      "\n",
      "       April                      May                       June\n",
      "Mo Tu We Th Fr Sa Su      Mo Tu We Th Fr Sa Su      Mo Tu We Th Fr Sa Su\n",
      "             1  2  3                         1             1  2  3  4  5\n",
      " 4  5  6  7  8  9 10       2  3  4  5  6  7  8       6  7  8  9 10 11 12\n",
      "11 12 13 14 15 16 17       9 10 11 12 13 14 15      13 14 15 16 17 18 19\n",
      "18 19 20 21 22 23 24      16 17 18 19 20 21 22      20 21 22 23 24 25 26\n",
      "25 26 27 28 29 30         23 24 25 26 27 28 29      27 28 29 30\n",
      "                          30 31\n",
      "\n",
      "        July                     August                  September\n",
      "Mo Tu We Th Fr Sa Su      Mo Tu We Th Fr Sa Su      Mo Tu We Th Fr Sa Su\n",
      "             1  2  3       1  2  3  4  5  6  7                1  2  3  4\n",
      " 4  5  6  7  8  9 10       8  9 10 11 12 13 14       5  6  7  8  9 10 11\n",
      "11 12 13 14 15 16 17      15 16 17 18 19 20 21      12 13 14 15 16 17 18\n",
      "18 19 20 21 22 23 24      22 23 24 25 26 27 28      19 20 21 22 23 24 25\n",
      "25 26 27 28 29 30 31      29 30 31                  26 27 28 29 30\n",
      "\n",
      "      October                   November                  December\n",
      "Mo Tu We Th Fr Sa Su      Mo Tu We Th Fr Sa Su      Mo Tu We Th Fr Sa Su\n",
      "                1  2          1  2  3  4  5  6                1  2  3  4\n",
      " 3  4  5  6  7  8  9       7  8  9 10 11 12 13       5  6  7  8  9 10 11\n",
      "10 11 12 13 14 15 16      14 15 16 17 18 19 20      12 13 14 15 16 17 18\n",
      "17 18 19 20 21 22 23      21 22 23 24 25 26 27      19 20 21 22 23 24 25\n",
      "24 25 26 27 28 29 30      28 29 30                  26 27 28 29 30 31\n",
      "31\n",
      "\n"
     ]
    }
   ],
   "source": [
    "import calendar\n",
    "\n",
    "def showCalender():\n",
    "    year = int(input(\"Enter calender year: \"))\n",
    "    print(calendar.calendar(year))\n",
    "    \n",
    "showCalender()\n"
   ]
  }
 ],
 "metadata": {
  "kernelspec": {
   "display_name": "Python 3",
   "language": "python",
   "name": "python3"
  },
  "language_info": {
   "codemirror_mode": {
    "name": "ipython",
    "version": 3
   },
   "file_extension": ".py",
   "mimetype": "text/x-python",
   "name": "python",
   "nbconvert_exporter": "python",
   "pygments_lexer": "ipython3",
   "version": "3.8.8"
  }
 },
 "nbformat": 4,
 "nbformat_minor": 5
}
