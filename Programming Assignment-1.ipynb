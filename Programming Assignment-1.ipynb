{
 "cells": [
  {
   "cell_type": "markdown",
   "id": "269efbf2",
   "metadata": {},
   "source": [
    "1)Write a Python program to print \"Hello Python\"?\n",
    "2)Write a Python program to do arithmetical operations?\n",
    "3)Write a python program to find an area of a rectangle?"
   ]
  },
  {
   "cell_type": "code",
   "execution_count": 1,
   "id": "8332c204",
   "metadata": {},
   "outputs": [
    {
     "name": "stdout",
     "output_type": "stream",
     "text": [
      "Hellow Python\n"
     ]
    }
   ],
   "source": [
    "print('Hellow Python')"
   ]
  },
  {
   "cell_type": "code",
   "execution_count": 2,
   "id": "06e79977",
   "metadata": {},
   "outputs": [
    {
     "name": "stdout",
     "output_type": "stream",
     "text": [
      "157\n",
      "143\n",
      "1050\n",
      "21.428571428571427\n",
      "21\n",
      "3\n"
     ]
    }
   ],
   "source": [
    "a = 150\n",
    "b = 7\n",
    "add = a + b\n",
    "sub = a - b\n",
    "mul = a * b\n",
    "div1 = a / b\n",
    "div2 = a // b\n",
    "mod = a % b\n",
    "\n",
    "print(add)\n",
    "print(sub)\n",
    "print(mul)\n",
    "print(div1)\n",
    "print(div2)\n",
    "print(mod)"
   ]
  },
  {
   "cell_type": "code",
   "execution_count": 3,
   "id": "8a741712",
   "metadata": {},
   "outputs": [
    {
     "name": "stdout",
     "output_type": "stream",
     "text": [
      "Enter the length of a Rectangle: 4\n",
      "Enter the breadth of a Rectangle: 3\n",
      "Area of a Rectangle is: 12.00\n"
     ]
    }
   ],
   "source": [
    "l = float(input('Enter the length of a Rectangle: '))\n",
    "b = float(input('Enter the breadth of a Rectangle: '))\n",
    "Area = l * b\n",
    "print(\"Area of a Rectangle is: %.2f\" %Area)"
   ]
  }
 ],
 "metadata": {
  "kernelspec": {
   "display_name": "Python 3",
   "language": "python",
   "name": "python3"
  },
  "language_info": {
   "codemirror_mode": {
    "name": "ipython",
    "version": 3
   },
   "file_extension": ".py",
   "mimetype": "text/x-python",
   "name": "python",
   "nbconvert_exporter": "python",
   "pygments_lexer": "ipython3",
   "version": "3.8.8"
  }
 },
 "nbformat": 4,
 "nbformat_minor": 5
}
